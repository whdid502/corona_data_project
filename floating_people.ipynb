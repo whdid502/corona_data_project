{
  "nbformat": 4,
  "nbformat_minor": 0,
  "metadata": {
    "colab": {
      "name": "corona_data_project.ipynb",
      "provenance": []
    },
    "kernelspec": {
      "name": "python3",
      "display_name": "Python 3"
    },
    "accelerator": "GPU"
  },
  "cells": [
    {
      "cell_type": "code",
      "metadata": {
        "id": "Bh_LmAq0uK4l",
        "colab_type": "code",
        "colab": {
          "base_uri": "https://localhost:8080/",
          "height": 52
        },
        "outputId": "83a9ae0e-ce51-4add-8809-48b855d0b977"
      },
      "source": [
        "import pandas as pd\n",
        "import numpy as np\n",
        "import seaborn as sns\n",
        "import matplotlib.pyplot as plt\n",
        "import matplotlib.dates as mdates\n",
        "import plotly.express as px\n",
        "import plotly.offline as py\n",
        "\n",
        "import folium \n",
        "from folium import plugins\n",
        "\n",
        "from datetime import date, timedelta"
      ],
      "execution_count": 73,
      "outputs": [
        {
          "output_type": "stream",
          "text": [
            "/usr/local/lib/python3.6/dist-packages/statsmodels/tools/_testing.py:19: FutureWarning: pandas.util.testing is deprecated. Use the functions in the public API at pandas.testing instead.\n",
            "  import pandas.util.testing as tm\n"
          ],
          "name": "stderr"
        }
      ]
    },
    {
      "cell_type": "code",
      "metadata": {
        "id": "5m5nQb7jv1Lp",
        "colab_type": "code",
        "colab": {
          "resources": {
            "http://localhost:8080/nbextensions/google.colab/files.js": {
              "data": "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",
              "ok": true,
              "headers": [
                [
                  "content-type",
                  "application/javascript"
                ]
              ],
              "status": 200,
              "status_text": ""
            }
          },
          "base_uri": "https://localhost:8080/",
          "height": 420
        },
        "outputId": "fa4cfb01-981d-40d7-dfeb-c6ab50b3b693"
      },
      "source": [
        "from google.colab import files\n",
        "uploaded = files.upload() #11개 데이터파일 업로드"
      ],
      "execution_count": 13,
      "outputs": [
        {
          "output_type": "display_data",
          "data": {
            "text/html": [
              "\n",
              "     <input type=\"file\" id=\"files-51b79fb2-6edc-4af7-bc89-d592574d59ea\" name=\"files[]\" multiple disabled\n",
              "        style=\"border:none\" />\n",
              "     <output id=\"result-51b79fb2-6edc-4af7-bc89-d592574d59ea\">\n",
              "      Upload widget is only available when the cell has been executed in the\n",
              "      current browser session. Please rerun this cell to enable.\n",
              "      </output>\n",
              "      <script src=\"/nbextensions/google.colab/files.js\"></script> "
            ],
            "text/plain": [
              "<IPython.core.display.HTML object>"
            ]
          },
          "metadata": {
            "tags": []
          }
        },
        {
          "output_type": "stream",
          "text": [
            "Saving Case.csv to Case.csv\n",
            "Saving PatientInfo.csv to PatientInfo (1).csv\n",
            "Saving Policy.csv to Policy.csv\n",
            "Saving Region.csv to Region.csv\n",
            "Saving SearchTrend.csv to SearchTrend.csv\n",
            "Saving SeoulFloating.csv to SeoulFloating (1).csv\n",
            "Saving Time.csv to Time (1).csv\n",
            "Saving TimeAge.csv to TimeAge.csv\n",
            "Saving TimeGender.csv to TimeGender.csv\n",
            "Saving TimeProvince.csv to TimeProvince.csv\n",
            "Saving Weather.csv to Weather.csv\n"
          ],
          "name": "stdout"
        }
      ]
    },
    {
      "cell_type": "code",
      "metadata": {
        "id": "ihBDPVCCwkYm",
        "colab_type": "code",
        "colab": {}
      },
      "source": [
        "patient_info = pd.read_csv(\"PatientInfo.csv\")\n",
        "floating = pd.read_csv(\"SeoulFloating.csv\")\n",
        "time = pd.read_csv(\"Time.csv\") "
      ],
      "execution_count": 4,
      "outputs": []
    },
    {
      "cell_type": "code",
      "metadata": {
        "id": "Qv2DcDUKxOYG",
        "colab_type": "code",
        "colab": {
          "base_uri": "https://localhost:8080/",
          "height": 727
        },
        "outputId": "7e995457-fa68-43e5-fc29-74cb8bc9765e"
      },
      "source": [
        "#사회적 거리두기 시행 이전 23일과 시행 이후 23일의 일별 확진자수를 시각화합니다.\n",
        "date = time['date'] #날짜 column\n",
        "conNum = time['confirmed'] #확진자수 column\n",
        "plt.figure()\n",
        "plt.rcParams['figure.figsize'] = [50, 20] # [width, height]\n",
        "\n",
        "#사회적 거리두기 이전 23일 동안의 확진자수 그래프 그리기\n",
        "xbefore=date[21:]  \n",
        "ybefore=conNum[21:]\n",
        "plt.plot(xbefore, ybefore, marker='o', color='black', label='before social distancing(23 days)')\n",
        "\n",
        "\n",
        "\n",
        "xafter=date[39:62]  #첫 사회적 거리두기기간 (02/29~03/21)\n",
        "yafter=conNum[39:62]\n",
        "plt.plot(xafter, yafter, marker='o', color='red', label='first social distancing period (02/29~03/21)')\n",
        "\n",
        "xafter=date[62:90]\n",
        "yafter=conNum[62:90]\n",
        "plt.plot(xafter, yafter, marker='o', color='green', label='second social distancing period (03/22~04/19)')\n",
        "\n",
        "xafter=date[90:106]\n",
        "yafter=conNum[90:106] \n",
        "plt.plot(xafter, yafter, marker='o', color='blue', label='third social distancing period (04/20~05/05)(weak)')\n",
        "\n",
        "xafter=date[106:len(date)]\n",
        "yafter=conNum[106:len(conNum)]\n",
        "plt.plot(xafter, yafter, marker='o', color='orange', label='fourth social distancing period (05/26~)(weak)')\n",
        "\n",
        "\n",
        "plt.xticks(rotation=45) #x축 글자 기울이기\n",
        "plt.xlabel(\"2020-02-28~2020-03-21 & 2020-03-22~2020-04-13\")\n",
        "plt.ylabel(\"confirmed cases of coronavirus infections\")\n",
        "plt.title(\"confirmed cases of coronavirus infections after 2020-02-28\")\n",
        "plt.legend()\n",
        "plt.show()"
      ],
      "execution_count": 6,
      "outputs": [
        {
          "output_type": "display_data",
          "data": {
            "image/png": "[encoded data removed]",
            "text/plain": [
              "<Figure size 3600x1440 with 1 Axes>"
            ]
          },
          "metadata": {
            "tags": [],
            "needs_background": "light"
          }
        }
      ]
    },
    {
      "cell_type": "code",
      "metadata": {
        "id": "6wMUFMDpxSc1",
        "colab_type": "code",
        "colab": {}
      },
      "source": [
        "#유동인구 연령대별로 분류\n",
        "floating_20= floating.query('birth_year==20')\n",
        "floating_30= floating.query('birth_year==30')\n",
        "floating_40= floating.query('birth_year==40')\n",
        "floating_50= floating.query('birth_year==50')\n",
        "floating_60= floating.query('birth_year==60')\n",
        "floating_70= floating.query('birth_year==70')\n",
        "\n",
        "#dataFrame에서 date, fp_num 행 외에는 필요가 없으므로 이들만 남겨둠. \n",
        "floating_20 = floating_20.loc[:,['date', 'fp_num']]\n",
        "floating_30 = floating_30.loc[:,['date', 'fp_num']]\n",
        "floating_40 = floating_40.loc[:,['date', 'fp_num']]\n",
        "floating_50 = floating_50.loc[:,['date', 'fp_num']]\n",
        "floating_60 = floating_60.loc[:,['date', 'fp_num']]\n",
        "floating_70 = floating_70.loc[:,['date', 'fp_num']]\n",
        "\n",
        "#각 날짜에 해당하는 인원 수 합치기\n",
        "floating_20 = floating_20.groupby(['date'])[['fp_num']].sum()\n",
        "floating_30 = floating_30.groupby(['date'])[['fp_num']].sum()\n",
        "floating_40 = floating_40.groupby(['date'])[['fp_num']].sum()\n",
        "floating_50 = floating_50.groupby(['date'])[['fp_num']].sum()\n",
        "floating_60 = floating_60.groupby(['date'])[['fp_num']].sum()\n",
        "floating_70 = floating_70.groupby(['date'])[['fp_num']].sum()\n",
        "\n",
        "#날짜를 1월 22일부터로 설정. (코로나 확진 환자 처음 생긴 날)\n",
        "floating_20_date_modify = floating_20[21:]\n",
        "floating_30_date_modify = floating_30[21:]\n",
        "floating_40_date_modify = floating_40[21:]\n",
        "floating_50_date_modify = floating_50[21:]\n",
        "floating_60_date_modify = floating_60[21:]\n",
        "floating_70_date_modify = floating_70[21:]\n",
        "\n",
        "#index 초기화해주기\n",
        "floating_20_date_modify1 = floating_20_date_modify.reset_index()\n",
        "floating_30_date_modify1 = floating_30_date_modify.reset_index()\n",
        "floating_40_date_modify1 = floating_40_date_modify.reset_index()\n",
        "floating_50_date_modify1 = floating_50_date_modify.reset_index()\n",
        "floating_60_date_modify1 = floating_60_date_modify.reset_index()\n",
        "floating_70_date_modify1 = floating_70_date_modify.reset_index()"
      ],
      "execution_count": 7,
      "outputs": []
    },
    {
      "cell_type": "code",
      "metadata": {
        "id": "-9KkCb8FSR-w",
        "colab_type": "code",
        "colab": {
          "base_uri": "https://localhost:8080/",
          "height": 34
        },
        "outputId": "4df0ea03-098f-4e56-b1a6-d3694b1db6ee"
      },
      "source": [
        "floating_20_date_modify1.at[31, 'fp_num']\n",
        "floating_20_date_modify1.at[32, 'fp_num']\n",
        "floating_20_date_modify1.at[31, 'fp_num']"
      ],
      "execution_count": 8,
      "outputs": [
        {
          "output_type": "execute_result",
          "data": {
            "text/plain": [
              "35458810"
            ]
          },
          "metadata": {
            "tags": []
          },
          "execution_count": 8
        }
      ]
    },
    {
      "cell_type": "code",
      "metadata": {
        "id": "RGU3BNfmxTJ1",
        "colab_type": "code",
        "colab": {}
      },
      "source": [
        "floating_20_date_modify1.at[32, 'fp_num'] = floating_20_date_modify1.at[32, 'fp_num']*(1/1.92)\n",
        "floating_30_date_modify1.at[32, 'fp_num'] = floating_30_date_modify1.at[32, 'fp_num']*(1/1.92)\n",
        "floating_40_date_modify1.at[32, 'fp_num'] = floating_40_date_modify1.at[32, 'fp_num']*(1/1.92)\n",
        "floating_50_date_modify1.at[32, 'fp_num'] = floating_50_date_modify1.at[32, 'fp_num']*(1/1.92)\n",
        "floating_60_date_modify1.at[32, 'fp_num'] = floating_60_date_modify1.at[32, 'fp_num']*(1/1.92)\n",
        "floating_70_date_modify1.at[32, 'fp_num'] = floating_70_date_modify1.at[32, 'fp_num']*(1/1.92)"
      ],
      "execution_count": 9,
      "outputs": []
    },
    {
      "cell_type": "code",
      "metadata": {
        "id": "PMMTPS2OxU5e",
        "colab_type": "code",
        "colab": {}
      },
      "source": [
        "floating_20_date_modify1"
      ],
      "execution_count": null,
      "outputs": []
    },
    {
      "cell_type": "code",
      "metadata": {
        "id": "gLYlOOYgxYl6",
        "colab_type": "code",
        "colab": {}
      },
      "source": [
        "#서울 사람들만 분류\n",
        "patient = patient_info.query('province == \"Seoul\"')\n",
        "\n",
        "#환자 연령대별로 분류\n",
        "patient_20= patient.query('age==\"20s\"')\n",
        "patient_30= patient.query('age==\"30s\"')\n",
        "patient_40= patient.query('age==\"40s\"')\n",
        "patient_50= patient.query('age==\"50s\"')\n",
        "patient_60= patient.query('age==\"60s\"')\n",
        "patient_70= patient.query('age==\"70s\"')\n",
        "\n",
        "#confirmed_date column만 불러온다\n",
        "patient_20 = patient_20.loc[:,['confirmed_date']]\n",
        "patient_30 = patient_30.loc[:,['confirmed_date']]\n",
        "patient_40 = patient_40.loc[:,['confirmed_date']]\n",
        "patient_50 = patient_50.loc[:,['confirmed_date']]\n",
        "patient_60 = patient_60.loc[:,['confirmed_date']]\n",
        "patient_70 = patient_70.loc[:,['confirmed_date']]\n",
        "\n",
        "#각 날짜별 사람 수 통합\n",
        "#인원수 파악을 위해 1이 들어간 column 새로 만들어 준다\n",
        "patient_20['patient']=np.nan\n",
        "patient_20.loc[:,['patient']]=1\n",
        "patient_30['patient']=np.nan\n",
        "patient_30.loc[:,['patient']]=1\n",
        "patient_40['patient']=np.nan\n",
        "patient_40.loc[:,['patient']]=1\n",
        "patient_50['patient']=np.nan\n",
        "patient_50.loc[:,['patient']]=1\n",
        "patient_60['patient']=np.nan\n",
        "patient_60.loc[:,['patient']]=1\n",
        "patient_70['patient']=np.nan\n",
        "patient_70.loc[:,['patient']]=1\n",
        "\n",
        "#각 날짜별 확진자 수 \n",
        "patient_20 = patient_20.groupby(['confirmed_date'])[['patient']].sum()\n",
        "patient_20.columns.name = 'date'\n",
        "patient_30 = patient_30.groupby(['confirmed_date'])[['patient']].sum()\n",
        "patient_30.columns.name = 'date'\n",
        "patient_40 = patient_40.groupby(['confirmed_date'])[['patient']].sum()\n",
        "patient_40.columns.name = 'date'\n",
        "patient_50 = patient_50.groupby(['confirmed_date'])[['patient']].sum()\n",
        "patient_50.columns.name = 'date'\n",
        "patient_60 = patient_60.groupby(['confirmed_date'])[['patient']].sum()\n",
        "patient_60.columns.name = 'date'\n",
        "patient_70 = patient_70.groupby(['confirmed_date'])[['patient']].sum()\n",
        "patient_70.columns.name = 'date'\n",
        "\n",
        "#index 초기화\n",
        "patient_20=patient_20.reset_index()\n",
        "patient_30=patient_30.reset_index()\n",
        "patient_40=patient_40.reset_index()\n",
        "patient_50=patient_50.reset_index()\n",
        "patient_60=patient_60.reset_index()\n",
        "patient_70=patient_70.reset_index()\n",
        "\n",
        "#이후에 merge 할 수 있게 patient data의 column 이름을 floating data의 column과 똑같이 맞춰준다\n",
        "#또한, 아직 floating data가 2/29일까지 없으므로 floating data는 2/29일까지, 확진자 데이터는 2/29일에서 14일 후인 3/14일까지 나타냈음.\n",
        "#각 patient data를 3/14일까지의 데이터로만 추리는 작업은 각 set을 보고 몇 번째 col이 3/14인지 체크하는 수작업을 했음. \n",
        "patient_20.rename(columns={\"confirmed_date\":\"date\"}, inplace = True)\n",
        "patient_20_2=patient_20[8:111]\n",
        "patient_30.rename(columns={\"confirmed_date\":\"date\"}, inplace = True)\n",
        "patient_30_2=patient_30[:]\n",
        "patient_40.rename(columns={\"confirmed_date\":\"date\"}, inplace = True)\n",
        "patient_40_2=patient_40[:]\n",
        "patient_50.rename(columns={\"confirmed_date\":\"date\"}, inplace = True)\n",
        "patient_50_2=patient_50[:]\n",
        "patient_60.rename(columns={\"confirmed_date\":\"date\"}, inplace = True)\n",
        "patient_60_2=patient_60[:]\n",
        "patient_70.rename(columns={\"confirmed_date\":\"date\"}, inplace = True)\n",
        "patient_70_2=patient_70[:]\n",
        "\n",
        "#각 날짜에 대한 유동인구, 확진자 수 한 dataFrame에 묶기\n",
        "#Nan data에는 0을 넣어줌. \n",
        "combine_20_2= pd.merge(floating_20_date_modify1,patient_20_2,how='outer',on='date')\n",
        "combine_20_2 = combine_20_2.fillna(0)\n",
        "combine_30_2= pd.merge(floating_30_date_modify1,patient_30_2,how='outer',on='date')\n",
        "combine_30_2 = combine_30_2.fillna(0)\n",
        "combine_40_2= pd.merge(floating_40_date_modify1,patient_40_2,how='outer',on='date')\n",
        "combine_40_2 = combine_40_2.fillna(0)\n",
        "combine_50_2= pd.merge(floating_50_date_modify1,patient_50_2,how='outer',on='date')\n",
        "combine_50_2 = combine_50_2.fillna(0)\n",
        "combine_60_2= pd.merge(floating_60_date_modify1,patient_60_2,how='outer',on='date')\n",
        "combine_60_2 = combine_60_2.fillna(0)\n",
        "combine_70_2= pd.merge(floating_70_date_modify1,patient_70_2,how='outer',on='date')\n",
        "combine_70_2 = combine_70_2.fillna(0)"
      ],
      "execution_count": 10,
      "outputs": []
    },
    {
      "cell_type": "code",
      "metadata": {
        "id": "_hPj3VWdmNxC",
        "colab_type": "code",
        "colab": {
          "base_uri": "https://localhost:8080/",
          "height": 406
        },
        "outputId": "4ff82d68-338f-48b5-8135-35e3241386d6"
      },
      "source": [
        "floating_20_date_modify1"
      ],
      "execution_count": 14,
      "outputs": [
        {
          "output_type": "execute_result",
          "data": {
            "text/html": [
              "<div>\n",
              "<style scoped>\n",
              "    .dataframe tbody tr th:only-of-type {\n",
              "        vertical-align: middle;\n",
              "    }\n",
              "\n",
              "    .dataframe tbody tr th {\n",
              "        vertical-align: top;\n",
              "    }\n",
              "\n",
              "    .dataframe thead th {\n",
              "        text-align: right;\n",
              "    }\n",
              "</style>\n",
              "<table border=\"1\" class=\"dataframe\">\n",
              "  <thead>\n",
              "    <tr style=\"text-align: right;\">\n",
              "      <th></th>\n",
              "      <th>date</th>\n",
              "      <th>fp_num</th>\n",
              "    </tr>\n",
              "  </thead>\n",
              "  <tbody>\n",
              "    <tr>\n",
              "      <th>0</th>\n",
              "      <td>2020-01-22</td>\n",
              "      <td>36066830</td>\n",
              "    </tr>\n",
              "    <tr>\n",
              "      <th>1</th>\n",
              "      <td>2020-01-23</td>\n",
              "      <td>34611120</td>\n",
              "    </tr>\n",
              "    <tr>\n",
              "      <th>2</th>\n",
              "      <td>2020-01-24</td>\n",
              "      <td>29333360</td>\n",
              "    </tr>\n",
              "    <tr>\n",
              "      <th>3</th>\n",
              "      <td>2020-01-25</td>\n",
              "      <td>26769130</td>\n",
              "    </tr>\n",
              "    <tr>\n",
              "      <th>4</th>\n",
              "      <td>2020-01-26</td>\n",
              "      <td>29136330</td>\n",
              "    </tr>\n",
              "    <tr>\n",
              "      <th>...</th>\n",
              "      <td>...</td>\n",
              "      <td>...</td>\n",
              "    </tr>\n",
              "    <tr>\n",
              "      <th>125</th>\n",
              "      <td>2020-05-27</td>\n",
              "      <td>36798640</td>\n",
              "    </tr>\n",
              "    <tr>\n",
              "      <th>126</th>\n",
              "      <td>2020-05-28</td>\n",
              "      <td>36811520</td>\n",
              "    </tr>\n",
              "    <tr>\n",
              "      <th>127</th>\n",
              "      <td>2020-05-29</td>\n",
              "      <td>26027020</td>\n",
              "    </tr>\n",
              "    <tr>\n",
              "      <th>128</th>\n",
              "      <td>2020-05-30</td>\n",
              "      <td>35840240</td>\n",
              "    </tr>\n",
              "    <tr>\n",
              "      <th>129</th>\n",
              "      <td>2020-05-31</td>\n",
              "      <td>35317500</td>\n",
              "    </tr>\n",
              "  </tbody>\n",
              "</table>\n",
              "<p>130 rows × 2 columns</p>\n",
              "</div>"
            ],
            "text/plain": [
              "           date    fp_num\n",
              "0    2020-01-22  36066830\n",
              "1    2020-01-23  34611120\n",
              "2    2020-01-24  29333360\n",
              "3    2020-01-25  26769130\n",
              "4    2020-01-26  29136330\n",
              "..          ...       ...\n",
              "125  2020-05-27  36798640\n",
              "126  2020-05-28  36811520\n",
              "127  2020-05-29  26027020\n",
              "128  2020-05-30  35840240\n",
              "129  2020-05-31  35317500\n",
              "\n",
              "[130 rows x 2 columns]"
            ]
          },
          "metadata": {
            "tags": []
          },
          "execution_count": 14
        }
      ]
    },
    {
      "cell_type": "code",
      "metadata": {
        "id": "aVgSmXadxcEK",
        "colab_type": "code",
        "colab": {}
      },
      "source": [
        "patient_20"
      ],
      "execution_count": null,
      "outputs": []
    },
    {
      "cell_type": "code",
      "metadata": {
        "id": "xPdr_yTGo5dw",
        "colab_type": "code",
        "colab": {}
      },
      "source": [
        "patient_20_2"
      ],
      "execution_count": null,
      "outputs": []
    },
    {
      "cell_type": "code",
      "metadata": {
        "id": "jltoMCBPxdaY",
        "colab_type": "code",
        "colab": {}
      },
      "source": [
        "combine_20_2"
      ],
      "execution_count": null,
      "outputs": []
    },
    {
      "cell_type": "code",
      "metadata": {
        "id": "Rhrl6oGwxTlY",
        "colab_type": "code",
        "colab": {}
      },
      "source": [
        "# create some data\n",
        "x= combine_20_2['date']                 # values of x\n",
        "y1= combine_20_2['patient']     # values of y1(x)\n",
        "y2= combine_20_2['fp_num']  # svalues of y2(x)\n",
        "\n",
        "fig = plt.figure()\n",
        "ax1 = fig.add_subplot(111)\n",
        "\n",
        "# create line plot of y1(x)\n",
        "line1, = ax1.plot(x, y1, 'g', label=\"Function y1\")\n",
        "ax1.set_xlabel('x')\n",
        "ax1.set_ylabel('y1', color='g')\n",
        "\n",
        "# create shared axis for y2(x)\n",
        "ax2 = ax1.twinx()\n",
        "\n",
        "# create line plot of y2(x)\n",
        "line2, = ax2.plot(x, y2, 'r', label=\"Function y2\")\n",
        "# ax1.set_xlabel('x')\n",
        "ax2.set_ylabel('y2', color='r')\n",
        "\n",
        "# set title, plot limits, etc\n",
        "plt.title('Two functions on common x axis')\n",
        "# plt.xlim(-2, 18)\n",
        "# plt.ylim(0, 25)\n",
        "\n",
        "# add a legend, and position it on the upper right\n",
        "plt.legend((line1, line2), ('Function y1', 'Function y2'))\n",
        "\n",
        "plt.show()"
      ],
      "execution_count": null,
      "outputs": []
    },
    {
      "cell_type": "code",
      "metadata": {
        "id": "zAdYw2c9xgDT",
        "colab_type": "code",
        "colab": {}
      },
      "source": [
        "#그래프 그리기\n",
        "\n",
        "#20대\n",
        "x= combine_20_2['date']\n",
        "y1= combine_20_2['patient']\n",
        "y2= combine_20_2['fp_num']\n",
        "plt.figure(figsize=(45,12))\n",
        "plt.bar(x,y2,color='lightcoral')\n",
        "plt.ylim(25000000,40000000)\n",
        "plt.title(\"20's floating population\")\n",
        "plt.xticks(rotation=90)\n",
        "plt.ylabel(\"20's floating population\")\n",
        "plt.show()\n",
        "\n",
        "plt.figure(figsize=(45,12))\n",
        "plt.plot(x,y1,color='lightcoral')\n",
        "plt.title(\"20's comfirmed patient number on Seoul\")\n",
        "plt.xticks(rotation=90)\n",
        "plt.ylabel(\"20's confirmed patient\")\n",
        "plt.show()\n",
        "\n",
        "\n",
        "\n",
        "#30대\n",
        "x= combine_30_2['date']\n",
        "y1= combine_30_2['patient']\n",
        "y2= combine_30_2['fp_num']\n",
        "plt.figure(figsize=(45,12))\n",
        "plt.bar(x,y2,color='orange')\n",
        "plt.ylim(25000000,45000000)\n",
        "plt.title(\"30's floating population\")\n",
        "plt.xticks(rotation=90)\n",
        "plt.ylabel(\"30's floating population\")\n",
        "plt.show()\n",
        "\n",
        "plt.figure(figsize=(45,12))\n",
        "plt.plot(x,y1,color='orange')\n",
        "plt.title(\"30's comfirmed patient number on Seoul\")\n",
        "plt.xticks(rotation=90)\n",
        "plt.ylabel(\"30's confirmed patient\")\n",
        "plt.show()\n",
        "\n",
        "#40대 \n",
        "x= combine_40_2['date']\n",
        "y1= combine_40_2['patient']\n",
        "y2= combine_40_2['fp_num']\n",
        "plt.figure(figsize=(45,12))\n",
        "plt.bar(x,y2,color='gold')\n",
        "plt.ylim(25000000,45000000)\n",
        "plt.title(\"40's floating population\")\n",
        "plt.xticks(rotation=90)\n",
        "plt.ylabel(\"40's floating population\")\n",
        "plt.show()\n",
        "\n",
        "plt.figure(figsize=(45,12))\n",
        "plt.plot(x,y1,color='gold')\n",
        "plt.title(\"40's comfirmed patient number on Seoul\")\n",
        "plt.xticks(rotation=90)\n",
        "plt.ylabel(\"40's confirmed patient\")\n",
        "plt.show()\n",
        "\n",
        "#50대\n",
        "x= combine_50_2['date']\n",
        "y1= combine_50_2['patient']\n",
        "y2= combine_50_2['fp_num']\n",
        "plt.figure(figsize=(45,12))\n",
        "plt.bar(x,y2,color='yellowgreen')\n",
        "plt.ylim(25000000,40000000)\n",
        "plt.title(\"50's floating population\")\n",
        "plt.xticks(rotation=90)\n",
        "plt.ylabel(\"50's floating population\")\n",
        "plt.show()\n",
        "\n",
        "plt.figure(figsize=(45,12))\n",
        "plt.plot(x,y1,color='yellowgreen')\n",
        "plt.title(\"50's comfirmed patient number on Seoul\")\n",
        "plt.xticks(rotation=90)\n",
        "plt.ylabel(\"50's confirmed patient\")\n",
        "plt.show()\n",
        "\n",
        "#60대\n",
        "x= combine_60_2['date']\n",
        "y1= combine_60_2['patient']\n",
        "y2= combine_60_2['fp_num']\n",
        "plt.figure(figsize=(45,12))\n",
        "plt.bar(x,y2,color='mediumturquoise')\n",
        "plt.ylim(15000000,30000000)\n",
        "plt.title(\"60's floating population\")\n",
        "plt.xticks(rotation=90)\n",
        "plt.ylabel(\"60's floating population\")\n",
        "plt.show()\n",
        "\n",
        "plt.figure(figsize=(45,12))\n",
        "plt.plot(x,y1,color='mediumturquoise')\n",
        "plt.title(\"60's comfirmed patient number on Seoul\")\n",
        "plt.xticks(rotation=45)\n",
        "plt.ylabel(\"60's confirmed patient\")\n",
        "plt.show()\n",
        "\n",
        "#70대\n",
        "x= combine_70_2['date']\n",
        "y1= combine_70_2['patient']\n",
        "y2= combine_70_2['fp_num']\n",
        "plt.figure(figsize=(45,12))\n",
        "plt.bar(x,y2,color='plum')\n",
        "plt.ylim(10000000,22000000)\n",
        "plt.title(\"70's floating population\")\n",
        "plt.xticks(rotation=90)\n",
        "plt.ylabel(\"70's floating population\")\n",
        "plt.show()\n",
        "\n",
        "plt.figure(figsize=(45,12))\n",
        "plt.plot(x,y1,color='plum')\n",
        "plt.title(\"70's comfirmed patient number on Seoul\")\n",
        "plt.xticks(rotation=90)\n",
        "plt.ylabel(\"70's confirmed patient\")\n",
        "plt.show()"
      ],
      "execution_count": null,
      "outputs": []
    },
    {
      "cell_type": "markdown",
      "metadata": {
        "id": "nA-8j4KMfKhY",
        "colab_type": "text"
      },
      "source": [
        "#1 출퇴근 시간을 제외한 유동인구 총합 구하기(근로가 힘든 고연령자도 제외)"
      ]
    },
    {
      "cell_type": "code",
      "metadata": {
        "id": "3oAwiOMyKcwB",
        "colab_type": "code",
        "colab": {}
      },
      "source": [
        "import pandas as pd\n"
      ],
      "execution_count": 1,
      "outputs": []
    },
    {
      "cell_type": "code",
      "metadata": {
        "id": "g6qAnHD8JhWR",
        "colab_type": "code",
        "colab": {}
      },
      "source": [
        "flt_20_01 = pd.read_csv('/content/drive/My Drive/seoul_floating/Floating_Population_2001.csv')\n",
        "flt_20_02 = pd.read_csv('/content/drive/My Drive/seoul_floating/Floating_Population_2002.csv')\n",
        "flt_20_03 = pd.read_csv('/content/drive/My Drive/seoul_floating/Floating_Population_2003.csv')\n",
        "flt_20_04 = pd.read_csv('/content/drive/My Drive/seoul_floating/Floating_Population_2004.csv')\n",
        "flt_20_05 = pd.read_csv('/content/drive/My Drive/seoul_floating/Floating_Population_2005.csv')\n",
        "flt_20_06 = pd.read_csv('/content/drive/My Drive/seoul_floating/Floating_Population_2006.csv')\n",
        "flt_20_07 = pd.read_csv('/content/drive/My Drive/seoul_floating/Floating_Population_2007.csv')\n",
        "\n",
        "flt_20_01 = flt_20_01.loc[:,['일자','시간(1시간단위)','연령대(10세단위)','유동인구수']]\n",
        "flt_20_02 = flt_20_02.loc[:,['일자','시간(1시간단위)','연령대(10세단위)','유동인구수']]\n",
        "flt_20_03 = flt_20_03.loc[:,['일자','시간(1시간단위)','연령대(10세단위)','유동인구수']]\n",
        "flt_20_04 = flt_20_04.loc[:,['일자','시간(1시간단위)','연령대(10세단위)','유동인구수']]\n",
        "flt_20_05 = flt_20_05.loc[:,['일자','시간(1시간단위)','연령대(10세단위)','유동인구수']]\n",
        "flt_20_06 = flt_20_06.loc[:,['일자','시간(1시간단위)','연령대(10세단위)','유동인구수']]\n",
        "flt_20_07 = flt_20_07.loc[:,['일자','시간(1시간단위)','연령대(10세단위)','유동인구수']]"
      ],
      "execution_count": 2,
      "outputs": []
    },
    {
      "cell_type": "code",
      "metadata": {
        "id": "r6LO6zVz4uGy",
        "colab_type": "code",
        "colab": {
          "base_uri": "https://localhost:8080/",
          "height": 197
        },
        "outputId": "f239d1cc-bb5a-4ae8-8c99-2a45f70df0fa"
      },
      "source": [
        "flt_20_07.tail()"
      ],
      "execution_count": 3,
      "outputs": [
        {
          "output_type": "execute_result",
          "data": {
            "text/html": [
              "<div>\n",
              "<style scoped>\n",
              "    .dataframe tbody tr th:only-of-type {\n",
              "        vertical-align: middle;\n",
              "    }\n",
              "\n",
              "    .dataframe tbody tr th {\n",
              "        vertical-align: top;\n",
              "    }\n",
              "\n",
              "    .dataframe thead th {\n",
              "        text-align: right;\n",
              "    }\n",
              "</style>\n",
              "<table border=\"1\" class=\"dataframe\">\n",
              "  <thead>\n",
              "    <tr style=\"text-align: right;\">\n",
              "      <th></th>\n",
              "      <th>일자</th>\n",
              "      <th>시간(1시간단위)</th>\n",
              "      <th>연령대(10세단위)</th>\n",
              "      <th>유동인구수</th>\n",
              "    </tr>\n",
              "  </thead>\n",
              "  <tbody>\n",
              "    <tr>\n",
              "      <th>223195</th>\n",
              "      <td>20200731</td>\n",
              "      <td>22</td>\n",
              "      <td>20</td>\n",
              "      <td>29360</td>\n",
              "    </tr>\n",
              "    <tr>\n",
              "      <th>223196</th>\n",
              "      <td>20200731</td>\n",
              "      <td>22</td>\n",
              "      <td>20</td>\n",
              "      <td>32900</td>\n",
              "    </tr>\n",
              "    <tr>\n",
              "      <th>223197</th>\n",
              "      <td>20200731</td>\n",
              "      <td>22</td>\n",
              "      <td>30</td>\n",
              "      <td>34010</td>\n",
              "    </tr>\n",
              "    <tr>\n",
              "      <th>223198</th>\n",
              "      <td>20200731</td>\n",
              "      <td>23</td>\n",
              "      <td>30</td>\n",
              "      <td>21960</td>\n",
              "    </tr>\n",
              "    <tr>\n",
              "      <th>223199</th>\n",
              "      <td>20200731</td>\n",
              "      <td>23</td>\n",
              "      <td>70</td>\n",
              "      <td>17770</td>\n",
              "    </tr>\n",
              "  </tbody>\n",
              "</table>\n",
              "</div>"
            ],
            "text/plain": [
              "              일자  시간(1시간단위)  연령대(10세단위)  유동인구수\n",
              "223195  20200731         22          20  29360\n",
              "223196  20200731         22          20  32900\n",
              "223197  20200731         22          30  34010\n",
              "223198  20200731         23          30  21960\n",
              "223199  20200731         23          70  17770"
            ]
          },
          "metadata": {
            "tags": []
          },
          "execution_count": 3
        }
      ]
    },
    {
      "cell_type": "code",
      "metadata": {
        "id": "SzrQ3R18KhQk",
        "colab_type": "code",
        "colab": {
          "base_uri": "https://localhost:8080/",
          "height": 265
        },
        "outputId": "b53deee5-a562-4c91-d9c9-f5a1f2ec81c0"
      },
      "source": [
        "flt_combine = pd.concat([flt_20_01, flt_20_02, flt_20_03, flt_20_04, flt_20_05, flt_20_06, flt_20_07],ignore_index=True)\n",
        "flt_combine.describe"
      ],
      "execution_count": 4,
      "outputs": [
        {
          "output_type": "execute_result",
          "data": {
            "text/plain": [
              "<bound method NDFrame.describe of                일자  시간(1시간단위)  연령대(10세단위)  유동인구수\n",
              "0        20200101          0          70   7910\n",
              "1        20200101          1          20  12330\n",
              "2        20200101          1          40  34400\n",
              "3        20200101          1          40  24400\n",
              "4        20200101          1          50  36590\n",
              "...           ...        ...         ...    ...\n",
              "1523995  20200731         22          20  29360\n",
              "1523996  20200731         22          20  32900\n",
              "1523997  20200731         22          30  34010\n",
              "1523998  20200731         23          30  21960\n",
              "1523999  20200731         23          70  17770\n",
              "\n",
              "[1524000 rows x 4 columns]>"
            ]
          },
          "metadata": {
            "tags": []
          },
          "execution_count": 4
        }
      ]
    },
    {
      "cell_type": "code",
      "metadata": {
        "id": "EmSCu8_rp6Yt",
        "colab_type": "code",
        "colab": {
          "base_uri": "https://localhost:8080/",
          "height": 197
        },
        "outputId": "cbec6f27-1214-4849-eb7c-7ae2e4bca51e"
      },
      "source": [
        "flt_combine.rename(columns={'일자':'date', '시간(1시간단위)':'time','연령대(10세단위)':'age','유동인구수':'fp_num'}, inplace=True)\n",
        "flt_combine.head()"
      ],
      "execution_count": 5,
      "outputs": [
        {
          "output_type": "execute_result",
          "data": {
            "text/html": [
              "<div>\n",
              "<style scoped>\n",
              "    .dataframe tbody tr th:only-of-type {\n",
              "        vertical-align: middle;\n",
              "    }\n",
              "\n",
              "    .dataframe tbody tr th {\n",
              "        vertical-align: top;\n",
              "    }\n",
              "\n",
              "    .dataframe thead th {\n",
              "        text-align: right;\n",
              "    }\n",
              "</style>\n",
              "<table border=\"1\" class=\"dataframe\">\n",
              "  <thead>\n",
              "    <tr style=\"text-align: right;\">\n",
              "      <th></th>\n",
              "      <th>date</th>\n",
              "      <th>time</th>\n",
              "      <th>age</th>\n",
              "      <th>fp_num</th>\n",
              "    </tr>\n",
              "  </thead>\n",
              "  <tbody>\n",
              "    <tr>\n",
              "      <th>0</th>\n",
              "      <td>20200101</td>\n",
              "      <td>0</td>\n",
              "      <td>70</td>\n",
              "      <td>7910</td>\n",
              "    </tr>\n",
              "    <tr>\n",
              "      <th>1</th>\n",
              "      <td>20200101</td>\n",
              "      <td>1</td>\n",
              "      <td>20</td>\n",
              "      <td>12330</td>\n",
              "    </tr>\n",
              "    <tr>\n",
              "      <th>2</th>\n",
              "      <td>20200101</td>\n",
              "      <td>1</td>\n",
              "      <td>40</td>\n",
              "      <td>34400</td>\n",
              "    </tr>\n",
              "    <tr>\n",
              "      <th>3</th>\n",
              "      <td>20200101</td>\n",
              "      <td>1</td>\n",
              "      <td>40</td>\n",
              "      <td>24400</td>\n",
              "    </tr>\n",
              "    <tr>\n",
              "      <th>4</th>\n",
              "      <td>20200101</td>\n",
              "      <td>1</td>\n",
              "      <td>50</td>\n",
              "      <td>36590</td>\n",
              "    </tr>\n",
              "  </tbody>\n",
              "</table>\n",
              "</div>"
            ],
            "text/plain": [
              "       date  time  age  fp_num\n",
              "0  20200101     0   70    7910\n",
              "1  20200101     1   20   12330\n",
              "2  20200101     1   40   34400\n",
              "3  20200101     1   40   24400\n",
              "4  20200101     1   50   36590"
            ]
          },
          "metadata": {
            "tags": []
          },
          "execution_count": 5
        }
      ]
    },
    {
      "cell_type": "code",
      "metadata": {
        "id": "jEnD127sNXF7",
        "colab_type": "code",
        "colab": {
          "base_uri": "https://localhost:8080/",
          "height": 212
        },
        "outputId": "27e64339-8b96-4362-e03a-343bee8a82ef"
      },
      "source": [
        "flt_combine.info()"
      ],
      "execution_count": 67,
      "outputs": [
        {
          "output_type": "stream",
          "text": [
            "<class 'pandas.core.frame.DataFrame'>\n",
            "RangeIndex: 1524000 entries, 0 to 1523999\n",
            "Data columns (total 4 columns):\n",
            " #   Column  Non-Null Count    Dtype\n",
            "---  ------  --------------    -----\n",
            " 0   date    1524000 non-null  int64\n",
            " 1   time    1524000 non-null  int64\n",
            " 2   age     1524000 non-null  int64\n",
            " 3   fp_num  1524000 non-null  int64\n",
            "dtypes: int64(4)\n",
            "memory usage: 46.5 MB\n"
          ],
          "name": "stdout"
        }
      ]
    },
    {
      "cell_type": "code",
      "metadata": {
        "id": "LOUM03x0DS41",
        "colab_type": "code",
        "colab": {
          "base_uri": "https://localhost:8080/",
          "height": 212
        },
        "outputId": "5900de48-5be0-4f7d-bc8d-11199725f2c4"
      },
      "source": [
        "work_too_old = flt_combine[flt_combine['age'] >= 60] # 60대이상 고령자는 제외, 근로자로 부적합\n",
        "work_too_old.info()"
      ],
      "execution_count": 68,
      "outputs": [
        {
          "output_type": "stream",
          "text": [
            "<class 'pandas.core.frame.DataFrame'>\n",
            "Int64Index: 508000 entries, 0 to 1523999\n",
            "Data columns (total 4 columns):\n",
            " #   Column  Non-Null Count   Dtype\n",
            "---  ------  --------------   -----\n",
            " 0   date    508000 non-null  int64\n",
            " 1   time    508000 non-null  int64\n",
            " 2   age     508000 non-null  int64\n",
            " 3   fp_num  508000 non-null  int64\n",
            "dtypes: int64(4)\n",
            "memory usage: 19.4 MB\n"
          ],
          "name": "stdout"
        }
      ]
    },
    {
      "cell_type": "code",
      "metadata": {
        "id": "qNjVfqegF75B",
        "colab_type": "code",
        "colab": {
          "base_uri": "https://localhost:8080/",
          "height": 247
        },
        "outputId": "d39ed49d-1164-419e-cda8-395c56dafd4b"
      },
      "source": [
        "work_too_old.groupby('date').sum()['fp_num']"
      ],
      "execution_count": 19,
      "outputs": [
        {
          "output_type": "execute_result",
          "data": {
            "text/plain": [
              "date\n",
              "20200101    45871660\n",
              "20200102    46893390\n",
              "20200103    46895130\n",
              "20200104    46378480\n",
              "20200105    46162420\n",
              "              ...   \n",
              "20200727    42329720\n",
              "20200728    42298830\n",
              "20200729    42355760\n",
              "20200730    42136440\n",
              "20200731    42192290\n",
              "Name: fp_num, Length: 212, dtype: int64"
            ]
          },
          "metadata": {
            "tags": []
          },
          "execution_count": 19
        }
      ]
    },
    {
      "cell_type": "code",
      "metadata": {
        "id": "HTDyQLtBFwlp",
        "colab_type": "code",
        "colab": {
          "base_uri": "https://localhost:8080/",
          "height": 212
        },
        "outputId": "bbf75826-6499-458a-b54b-bdbecdeb83b0"
      },
      "source": [
        "work_people = flt_combine[flt_combine.age < 60] # 근로자 추출\n",
        "work_people.info()"
      ],
      "execution_count": 57,
      "outputs": [
        {
          "output_type": "stream",
          "text": [
            "<class 'pandas.core.frame.DataFrame'>\n",
            "Int64Index: 1016000 entries, 1 to 1523998\n",
            "Data columns (total 4 columns):\n",
            " #   Column  Non-Null Count    Dtype\n",
            "---  ------  --------------    -----\n",
            " 0   date    1016000 non-null  int64\n",
            " 1   time    1016000 non-null  int64\n",
            " 2   age     1016000 non-null  int64\n",
            " 3   fp_num  1016000 non-null  int64\n",
            "dtypes: int64(4)\n",
            "memory usage: 38.8 MB\n"
          ],
          "name": "stdout"
        }
      ]
    },
    {
      "cell_type": "code",
      "metadata": {
        "id": "eRlyfiW9F3B-",
        "colab_type": "code",
        "colab": {
          "base_uri": "https://localhost:8080/",
          "height": 212
        },
        "outputId": "5d84ecb1-38c0-4a86-b09a-f4f7def81f06"
      },
      "source": [
        "go_to_work = (work_people.time < 11) & (work_people.time >= 5)  # 출근시간\n",
        "off_work = (work_people.time < 21) & (work_people.time >= 17) # 퇴근시간\n",
        "\n",
        "\n",
        "time_to_work = work_people[go_to_work | off_work]\n",
        "time_to_work.info()"
      ],
      "execution_count": 55,
      "outputs": [
        {
          "output_type": "stream",
          "text": [
            "<class 'pandas.core.frame.DataFrame'>\n",
            "Int64Index: 423200 entries, 17 to 1523990\n",
            "Data columns (total 4 columns):\n",
            " #   Column  Non-Null Count   Dtype\n",
            "---  ------  --------------   -----\n",
            " 0   date    423200 non-null  int64\n",
            " 1   time    423200 non-null  int64\n",
            " 2   age     423200 non-null  int64\n",
            " 3   fp_num  423200 non-null  int64\n",
            "dtypes: int64(4)\n",
            "memory usage: 16.1 MB\n"
          ],
          "name": "stdout"
        }
      ]
    },
    {
      "cell_type": "code",
      "metadata": {
        "id": "rTF8H3qdJjuB",
        "colab_type": "code",
        "colab": {
          "base_uri": "https://localhost:8080/",
          "height": 212
        },
        "outputId": "23449dae-9f01-43d5-dd59-8725bccaea4e"
      },
      "source": [
        "time_sep1 = (work_people.age >= 11) & (work_people.age < 17) # 근무시간\n",
        "time_sep2 = work_people.time < 5 # 출근전\n",
        "time_sep3 = work_people.age >= 21 # 퇴근후\n",
        "not_work = work_people[time_sep1 | time_sep2 | time_sep3]\n",
        "not_work.info()"
      ],
      "execution_count": 56,
      "outputs": [
        {
          "output_type": "stream",
          "text": [
            "<class 'pandas.core.frame.DataFrame'>\n",
            "Int64Index: 815000 entries, 1 to 1523998\n",
            "Data columns (total 4 columns):\n",
            " #   Column  Non-Null Count   Dtype\n",
            "---  ------  --------------   -----\n",
            " 0   date    815000 non-null  int64\n",
            " 1   time    815000 non-null  int64\n",
            " 2   age     815000 non-null  int64\n",
            " 3   fp_num  815000 non-null  int64\n",
            "dtypes: int64(4)\n",
            "memory usage: 31.1 MB\n"
          ],
          "name": "stdout"
        }
      ]
    },
    {
      "cell_type": "code",
      "metadata": {
        "id": "aDVLEhdaM6Bn",
        "colab_type": "code",
        "colab": {
          "base_uri": "https://localhost:8080/",
          "height": 406
        },
        "outputId": "06d108df-ea7e-4a8b-d0bc-0c5dbc05beea"
      },
      "source": [
        "not_work[not_work.date == 20200101]"
      ],
      "execution_count": 77,
      "outputs": [
        {
          "output_type": "execute_result",
          "data": {
            "text/html": [
              "<div>\n",
              "<style scoped>\n",
              "    .dataframe tbody tr th:only-of-type {\n",
              "        vertical-align: middle;\n",
              "    }\n",
              "\n",
              "    .dataframe tbody tr th {\n",
              "        vertical-align: top;\n",
              "    }\n",
              "\n",
              "    .dataframe thead th {\n",
              "        text-align: right;\n",
              "    }\n",
              "</style>\n",
              "<table border=\"1\" class=\"dataframe\">\n",
              "  <thead>\n",
              "    <tr style=\"text-align: right;\">\n",
              "      <th></th>\n",
              "      <th>date</th>\n",
              "      <th>time</th>\n",
              "      <th>age</th>\n",
              "      <th>fp_num</th>\n",
              "    </tr>\n",
              "  </thead>\n",
              "  <tbody>\n",
              "    <tr>\n",
              "      <th>1</th>\n",
              "      <td>20200101</td>\n",
              "      <td>1</td>\n",
              "      <td>20</td>\n",
              "      <td>12330</td>\n",
              "    </tr>\n",
              "    <tr>\n",
              "      <th>2</th>\n",
              "      <td>20200101</td>\n",
              "      <td>1</td>\n",
              "      <td>40</td>\n",
              "      <td>34400</td>\n",
              "    </tr>\n",
              "    <tr>\n",
              "      <th>3</th>\n",
              "      <td>20200101</td>\n",
              "      <td>1</td>\n",
              "      <td>40</td>\n",
              "      <td>24400</td>\n",
              "    </tr>\n",
              "    <tr>\n",
              "      <th>4</th>\n",
              "      <td>20200101</td>\n",
              "      <td>1</td>\n",
              "      <td>50</td>\n",
              "      <td>36590</td>\n",
              "    </tr>\n",
              "    <tr>\n",
              "      <th>5</th>\n",
              "      <td>20200101</td>\n",
              "      <td>2</td>\n",
              "      <td>20</td>\n",
              "      <td>19760</td>\n",
              "    </tr>\n",
              "    <tr>\n",
              "      <th>...</th>\n",
              "      <td>...</td>\n",
              "      <td>...</td>\n",
              "      <td>...</td>\n",
              "      <td>...</td>\n",
              "    </tr>\n",
              "    <tr>\n",
              "      <th>221194</th>\n",
              "      <td>20200101</td>\n",
              "      <td>17</td>\n",
              "      <td>30</td>\n",
              "      <td>50380</td>\n",
              "    </tr>\n",
              "    <tr>\n",
              "      <th>221195</th>\n",
              "      <td>20200101</td>\n",
              "      <td>17</td>\n",
              "      <td>40</td>\n",
              "      <td>25400</td>\n",
              "    </tr>\n",
              "    <tr>\n",
              "      <th>221198</th>\n",
              "      <td>20200101</td>\n",
              "      <td>19</td>\n",
              "      <td>30</td>\n",
              "      <td>32040</td>\n",
              "    </tr>\n",
              "    <tr>\n",
              "      <th>221199</th>\n",
              "      <td>20200101</td>\n",
              "      <td>19</td>\n",
              "      <td>40</td>\n",
              "      <td>46040</td>\n",
              "    </tr>\n",
              "    <tr>\n",
              "      <th>221209</th>\n",
              "      <td>20200101</td>\n",
              "      <td>23</td>\n",
              "      <td>40</td>\n",
              "      <td>31590</td>\n",
              "    </tr>\n",
              "  </tbody>\n",
              "</table>\n",
              "<p>3850 rows × 4 columns</p>\n",
              "</div>"
            ],
            "text/plain": [
              "            date  time  age  fp_num\n",
              "1       20200101     1   20   12330\n",
              "2       20200101     1   40   34400\n",
              "3       20200101     1   40   24400\n",
              "4       20200101     1   50   36590\n",
              "5       20200101     2   20   19760\n",
              "...          ...   ...  ...     ...\n",
              "221194  20200101    17   30   50380\n",
              "221195  20200101    17   40   25400\n",
              "221198  20200101    19   30   32040\n",
              "221199  20200101    19   40   46040\n",
              "221209  20200101    23   40   31590\n",
              "\n",
              "[3850 rows x 4 columns]"
            ]
          },
          "metadata": {
            "tags": []
          },
          "execution_count": 77
        }
      ]
    },
    {
      "cell_type": "code",
      "metadata": {
        "id": "hAHDsZSRMcCq",
        "colab_type": "code",
        "colab": {
          "base_uri": "https://localhost:8080/",
          "height": 436
        },
        "outputId": "131dee00-d941-435f-b11e-928c82303c9a"
      },
      "source": [
        "summary = not_work.groupby('date').sum().drop(['age','time'], axis='columns')\n",
        "summary['date'] = summary.index\n",
        "\n",
        "summary['datetime'] = summary.date.apply(lambda x: pd.to_datetime(str(x), format='%Y%m%d'))\n",
        "summary = summary.drop(['date'], axis='columns')\n",
        "\n",
        "summary"
      ],
      "execution_count": 125,
      "outputs": [
        {
          "output_type": "execute_result",
          "data": {
            "text/html": [
              "<div>\n",
              "<style scoped>\n",
              "    .dataframe tbody tr th:only-of-type {\n",
              "        vertical-align: middle;\n",
              "    }\n",
              "\n",
              "    .dataframe tbody tr th {\n",
              "        vertical-align: top;\n",
              "    }\n",
              "\n",
              "    .dataframe thead th {\n",
              "        text-align: right;\n",
              "    }\n",
              "</style>\n",
              "<table border=\"1\" class=\"dataframe\">\n",
              "  <thead>\n",
              "    <tr style=\"text-align: right;\">\n",
              "      <th></th>\n",
              "      <th>fp_num</th>\n",
              "      <th>datetime</th>\n",
              "    </tr>\n",
              "    <tr>\n",
              "      <th>date</th>\n",
              "      <th></th>\n",
              "      <th></th>\n",
              "    </tr>\n",
              "  </thead>\n",
              "  <tbody>\n",
              "    <tr>\n",
              "      <th>20200101</th>\n",
              "      <td>119484340</td>\n",
              "      <td>2020-01-01</td>\n",
              "    </tr>\n",
              "    <tr>\n",
              "      <th>20200102</th>\n",
              "      <td>126752580</td>\n",
              "      <td>2020-01-02</td>\n",
              "    </tr>\n",
              "    <tr>\n",
              "      <th>20200103</th>\n",
              "      <td>126802670</td>\n",
              "      <td>2020-01-03</td>\n",
              "    </tr>\n",
              "    <tr>\n",
              "      <th>20200104</th>\n",
              "      <td>122178190</td>\n",
              "      <td>2020-01-04</td>\n",
              "    </tr>\n",
              "    <tr>\n",
              "      <th>20200105</th>\n",
              "      <td>121280130</td>\n",
              "      <td>2020-01-05</td>\n",
              "    </tr>\n",
              "    <tr>\n",
              "      <th>...</th>\n",
              "      <td>...</td>\n",
              "      <td>...</td>\n",
              "    </tr>\n",
              "    <tr>\n",
              "      <th>20200727</th>\n",
              "      <td>126144090</td>\n",
              "      <td>2020-07-27</td>\n",
              "    </tr>\n",
              "    <tr>\n",
              "      <th>20200728</th>\n",
              "      <td>126357510</td>\n",
              "      <td>2020-07-28</td>\n",
              "    </tr>\n",
              "    <tr>\n",
              "      <th>20200729</th>\n",
              "      <td>126379530</td>\n",
              "      <td>2020-07-29</td>\n",
              "    </tr>\n",
              "    <tr>\n",
              "      <th>20200730</th>\n",
              "      <td>125677790</td>\n",
              "      <td>2020-07-30</td>\n",
              "    </tr>\n",
              "    <tr>\n",
              "      <th>20200731</th>\n",
              "      <td>125501660</td>\n",
              "      <td>2020-07-31</td>\n",
              "    </tr>\n",
              "  </tbody>\n",
              "</table>\n",
              "<p>212 rows × 2 columns</p>\n",
              "</div>"
            ],
            "text/plain": [
              "             fp_num   datetime\n",
              "date                          \n",
              "20200101  119484340 2020-01-01\n",
              "20200102  126752580 2020-01-02\n",
              "20200103  126802670 2020-01-03\n",
              "20200104  122178190 2020-01-04\n",
              "20200105  121280130 2020-01-05\n",
              "...             ...        ...\n",
              "20200727  126144090 2020-07-27\n",
              "20200728  126357510 2020-07-28\n",
              "20200729  126379530 2020-07-29\n",
              "20200730  125677790 2020-07-30\n",
              "20200731  125501660 2020-07-31\n",
              "\n",
              "[212 rows x 2 columns]"
            ]
          },
          "metadata": {
            "tags": []
          },
          "execution_count": 125
        }
      ]
    },
    {
      "cell_type": "markdown",
      "metadata": {
        "id": "5fJ1MOL7ehr5",
        "colab_type": "text"
      },
      "source": [
        "-"
      ]
    }
  ]
}